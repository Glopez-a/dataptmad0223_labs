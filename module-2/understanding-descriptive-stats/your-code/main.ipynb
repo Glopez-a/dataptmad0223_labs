{
 "cells": [
  {
   "cell_type": "markdown",
   "metadata": {},
   "source": [
    "# Understanding Descriptive Statistics\n",
    "\n",
    "Import the necessary libraries here:"
   ]
  },
  {
   "cell_type": "code",
   "execution_count": 1,
   "metadata": {},
   "outputs": [
    {
     "ename": "ModuleNotFoundError",
     "evalue": "No module named 'pandas'",
     "output_type": "error",
     "traceback": [
      "\u001b[0;31m---------------------------------------------------------------------------\u001b[0m",
      "\u001b[0;31mModuleNotFoundError\u001b[0m                       Traceback (most recent call last)",
      "Cell \u001b[0;32mIn[1], line 3\u001b[0m\n\u001b[1;32m      1\u001b[0m \u001b[38;5;66;03m# Libraries\u001b[39;00m\n\u001b[0;32m----> 3\u001b[0m \u001b[38;5;28;01mimport\u001b[39;00m \u001b[38;5;21;01mpandas\u001b[39;00m \u001b[38;5;28;01mas\u001b[39;00m \u001b[38;5;21;01mpd\u001b[39;00m\n\u001b[1;32m      4\u001b[0m \u001b[38;5;28;01mimport\u001b[39;00m \u001b[38;5;21;01mnumpy\u001b[39;00m \u001b[38;5;28;01mas\u001b[39;00m \u001b[38;5;21;01mnp\u001b[39;00m\n\u001b[1;32m      6\u001b[0m \u001b[38;5;28;01mimport\u001b[39;00m \u001b[38;5;21;01mseaborn\u001b[39;00m \u001b[38;5;28;01mas\u001b[39;00m \u001b[38;5;21;01msns\u001b[39;00m\n",
      "\u001b[0;31mModuleNotFoundError\u001b[0m: No module named 'pandas'"
     ]
    }
   ],
   "source": [
    "# Libraries\n",
    "\n",
    "import pandas as pd\n",
    "import numpy as np\n",
    "\n",
    "import seaborn as sns\n",
    "from matplotlib import pyplot as plt"
   ]
  },
  {
   "cell_type": "markdown",
   "metadata": {},
   "source": [
    "## Challenge 1\n",
    "#### 1.- Define a function that simulates rolling a dice 10 times. Save the information in a dataframe.\n",
    "**Hint**: you can use the *choices* function from module *random* to help you with the simulation."
   ]
  },
  {
   "cell_type": "code",
   "execution_count": null,
   "metadata": {},
   "outputs": [],
   "source": [
    "# your code here\n",
    "\n",
    "def roll_dice():\n",
    "    dice_rolls = np.random.randint(1, 7, size=10)\n",
    "    return pd.DataFrame({'Roll': range(1, 11), 'Result': dice_rolls})"
   ]
  },
  {
   "cell_type": "markdown",
   "metadata": {},
   "source": [
    "#### 2.- Plot the results sorted by value."
   ]
  },
  {
   "cell_type": "code",
   "execution_count": null,
   "metadata": {},
   "outputs": [],
   "source": [
    "# your code here\n",
    "\n",
    "dice_results = roll_dice()\n",
    "print(dice_results)\n",
    "\n",
    "\n",
    "result_counts = dice_results['Result'].value_counts(sort=False)\n",
    "plt.bar(result_counts.index, result_counts.values)\n",
    "plt.title('Dice Roll Results')\n",
    "plt.xlabel('Result')\n",
    "plt.ylabel('Count')\n",
    "plt.show()"
   ]
  },
  {
   "cell_type": "markdown",
   "metadata": {},
   "source": [
    "#### 3.- Calculate the frequency distribution and plot it. What is the relation between this plot and the plot above? Describe it with words."
   ]
  },
  {
   "cell_type": "code",
   "execution_count": null,
   "metadata": {},
   "outputs": [],
   "source": [
    "# your code here\n",
    "\n",
    "result_counts_df = pd.DataFrame(result_counts).reset_index().rename(columns={'index': 'Dice Count'})\n",
    "result_counts_df = result_counts_df.sort_values(by='Result', ascending=False)\n",
    "result_counts_df['Proportions'] = (result_counts_df['Result']/sum(result_counts_df['Result']))\n",
    "result_counts_df\n",
    "\n",
    "ax = sns.barplot(x='Dice Count', y='Proportions', data=result_counts_df, orient='v')\n",
    "plt.show()"
   ]
  },
  {
   "cell_type": "markdown",
   "metadata": {},
   "source": [
    "## Challenge 2\n",
    "Now, using the dice results obtained in *challenge 1*, your are going to define some functions that will help you calculate the mean of your data in two different ways, the median and the four quartiles. \n",
    "\n",
    "#### 1.- Define a function that computes the mean by summing all the observations and dividing by the total number of observations. You are not allowed to use any methods or functions that directly calculate the mean value. "
   ]
  },
  {
   "cell_type": "code",
   "execution_count": null,
   "metadata": {},
   "outputs": [],
   "source": [
    "# your code here\n",
    "\n",
    "def dice_mean_1(column_total_observations):\n",
    "    return sum(column_total_observations)/len(column_total_observations)\n",
    "\n",
    "dice_mean_1(dice_results['Result'])"
   ]
  },
  {
   "cell_type": "markdown",
   "metadata": {},
   "source": [
    "#### 2.- First, calculate the frequency distribution. Then, calculate the mean using the values of the frequency distribution you've just computed. You are not allowed to use any methods or functions that directly calculate the mean value. "
   ]
  },
  {
   "cell_type": "code",
   "execution_count": null,
   "metadata": {},
   "outputs": [],
   "source": [
    "# your code here\n",
    "\n",
    "def dice_mean_2(column_dice_count,column_result):\n",
    "    return sum([column_dice_count[i]*column_result[i] for i in range(len(column_dice_count))]) / sum(column_result)\n",
    "\n",
    "dice_mean_2(result_counts_df['Dice Count'],result_counts_df['Result'])"
   ]
  },
  {
   "cell_type": "markdown",
   "metadata": {},
   "source": [
    "#### 3.- Define a function to calculate the median. You are not allowed to use any methods or functions that directly calculate the median value. \n",
    "**Hint**: you might need to define two computation cases depending on the number of observations used to calculate the median."
   ]
  },
  {
   "cell_type": "code",
   "execution_count": null,
   "metadata": {},
   "outputs": [],
   "source": [
    "# your code here\n",
    "\n",
    "def dice_median(column_results):    \n",
    "    sorted_values = np.sort(column_results)\n",
    "    if (len(sorted_values) % 2) == 0:\n",
    "        return (sorted_values[int((len(sorted_values)/2)-1)] + sorted_values[int(len(sorted_values)/2)])/2\n",
    "    else:\n",
    "        return sorted_values[floor(len(sorted_values)/2)]\n",
    "    \n",
    "dice_median(dice_results['Result'])"
   ]
  },
  {
   "cell_type": "markdown",
   "metadata": {},
   "source": [
    "#### 4.- Define a function to calculate the four quartiles. You can use the function you defined above to compute the median but you are not allowed to use any methods or functions that directly calculate the quartiles. "
   ]
  },
  {
   "cell_type": "code",
   "execution_count": null,
   "metadata": {},
   "outputs": [],
   "source": [
    "# your code here\n",
    "\n",
    "def calculate_quartiles(data):\n",
    "    # Sort the data in ascending order\n",
    "    sorted_data = sorted(data)\n",
    "    \n",
    "    # Calculate the position of Q1, Q2, and Q3\n",
    "    n = len(sorted_data)\n",
    "    q1_pos = int(n/4)\n",
    "    q3_pos = int(3*n/4)\n",
    "    \n",
    "    # Calculate the values of Q1, Q2, and Q3\n",
    "    q1 = sorted_data[q1_pos]\n",
    "    q2 = int(dice_median(data))\n",
    "    q3 = sorted_data[q3_pos]\n",
    "    \n",
    "    # Return the quartile values as a dictionary\n",
    "    return {'Q1': q1, 'Q2': q2, 'Q3': q3, 'Q4': sorted_data[-1]}\n",
    "\n",
    "calculate_quartiles(dice_results['Result'])"
   ]
  },
  {
   "cell_type": "markdown",
   "metadata": {},
   "source": [
    "## Challenge 3\n",
    "Read the csv `roll_the_dice_hundred.csv` from the `data` folder.\n",
    "#### 1.- Sort the values and plot them. What do you see?"
   ]
  },
  {
   "cell_type": "code",
   "execution_count": null,
   "metadata": {},
   "outputs": [],
   "source": [
    "# your code here\n",
    "\n",
    "path = '../data/roll_the_dice_hundred.csv'\n",
    "roll_the_dice_hundred = pd.read_csv(path)\n",
    "roll_the_dice_hundred = roll_the_dice_hundred.sort_values(by='value')\n",
    "roll_the_dice_hundred.head(20)\n",
    "\n",
    "result_counts = roll_the_dice_hundred['value'].value_counts(sort=False)\n",
    "plt.bar(result_counts.index, result_counts.values)\n",
    "plt.title('Dice Roll Results')\n",
    "plt.xlabel('Result')\n",
    "plt.ylabel('Count')\n",
    "plt.show()"
   ]
  },
  {
   "cell_type": "markdown",
   "metadata": {},
   "source": [
    "#### 2.- Using the functions you defined in *challenge 2*, calculate the mean value of the hundred dice rolls."
   ]
  },
  {
   "cell_type": "code",
   "execution_count": null,
   "metadata": {},
   "outputs": [],
   "source": [
    "# your code here\n",
    "\n",
    "dice_mean_1(roll_the_dice_hundred['value'])"
   ]
  },
  {
   "cell_type": "markdown",
   "metadata": {},
   "source": [
    "#### 3.- Now, calculate the frequency distribution.\n"
   ]
  },
  {
   "cell_type": "code",
   "execution_count": null,
   "metadata": {},
   "outputs": [],
   "source": [
    "# your code here\n",
    "\n",
    "\n",
    "result_counts_df = pd.DataFrame(result_counts).reset_index().rename(columns={'index': 'Dice Count'})\n",
    "result_counts_df\n",
    "\n",
    "result_counts_df = result_counts_df.sort_values(by='value', ascending=False)\n",
    "result_counts_df['Proportions'] = (result_counts_df['value']/sum(result_counts_df['value']))\n",
    "result_counts_df\n",
    "\n",
    "ax = sns.barplot(x='Dice Count', y='Proportions', data=result_counts_df, orient='v')\n",
    "plt.show()\n"
   ]
  },
  {
   "cell_type": "markdown",
   "metadata": {},
   "source": [
    "#### 4.- Plot the histogram. What do you see (shape, values...) ? How can you connect the mean value to the histogram? "
   ]
  },
  {
   "cell_type": "code",
   "execution_count": null,
   "metadata": {},
   "outputs": [],
   "source": [
    "# your code here\n",
    "\n",
    "# Get the value counts for each dice roll result\n",
    "result_counts = roll_the_dice_hundred['value'].value_counts(sort=False)\n",
    "\n",
    "# Create the histogram plot\n",
    "plt.hist(roll_the_dice_hundred['value'], bins=6)\n",
    "\n",
    "# Add plot labels and title\n",
    "plt.title('Dice Roll Results')\n",
    "plt.xlabel('Result')\n",
    "plt.ylabel('Count')\n",
    "\n",
    "# Show the plot\n",
    "plt.show()\n",
    "\n",
    "display(result_counts)"
   ]
  },
  {
   "cell_type": "markdown",
   "metadata": {},
   "source": [
    "#### 5.- Read the `roll_the_dice_thousand.csv` from the `data` folder. Plot the frequency distribution as you did before. Has anything changed? Why do you think it changed?"
   ]
  },
  {
   "cell_type": "code",
   "execution_count": null,
   "metadata": {},
   "outputs": [],
   "source": [
    "# your code here\n",
    "\n",
    "path = '../data/roll_the_dice_thousand.csv'\n",
    "roll_the_dice_thousand = pd.read_csv(path)\n",
    "roll_the_dice_thousand = roll_the_dice_thousand.sort_values(by='value')\n",
    "roll_the_dice_thousand.head(20)\n",
    "\n",
    "result_counts = roll_the_dice_thousand['value'].value_counts(sort=False)\n",
    "plt.bar(result_counts.index, result_counts.values)\n",
    "plt.title('Dice Roll Results')\n",
    "plt.xlabel('Result')\n",
    "plt.ylabel('Count')\n",
    "plt.show()"
   ]
  },
  {
   "cell_type": "markdown",
   "metadata": {},
   "source": [
    "## Challenge 4\n",
    "In the `data` folder of this repository you will find three different files with the prefix `ages_population`. These files contain information about a poll answered by a thousand people regarding their age. Each file corresponds to the poll answers in different neighbourhoods of Barcelona.\n",
    "\n",
    "#### 1.- Read the file `ages_population.csv`. Calculate the frequency distribution and plot it as we did during the lesson. Try to guess the range in which the mean and the standard deviation will be by looking at the plot. "
   ]
  },
  {
   "cell_type": "code",
   "execution_count": null,
   "metadata": {},
   "outputs": [],
   "source": [
    "# your code here\n",
    "\n",
    "path = '../data/ages_population.csv'\n",
    "ages_population = pd.read_csv(path)\n",
    "ages_population\n",
    "\n",
    "result_counts = ages_population['observation'].value_counts(sort=False)\n",
    "result_counts_df = pd.DataFrame(result_counts).reset_index().rename(columns={'observation': 'frequency'})\n",
    "result_counts_df\n",
    "\n",
    "# Calculate mean and median\n",
    "mean_age = ages_population['observation'].mean()\n",
    "median_age = ages_population['observation'].median()\n",
    "std_age = ages_population['observation'].std()\n",
    "\n",
    "# Create the histogram plot\n",
    "plt.hist(ages_population['observation'], bins=20)\n",
    "\n",
    "# Add plot labels and title\n",
    "plt.title('Age Distribution')\n",
    "plt.xlabel('Age')\n",
    "plt.ylabel('Count')\n",
    "\n",
    "# Add vertical lines for mean and median\n",
    "plt.axvline(x=mean_age, color='red', linestyle='dashed', linewidth=2, label='Mean')\n",
    "plt.axvline(x=median_age, color='green', linestyle='dashed', linewidth=2, label='Median')\n",
    "\n",
    "# Add legend\n",
    "plt.legend()\n",
    "\n",
    "# Show the plot\n",
    "plt.show()"
   ]
  },
  {
   "cell_type": "markdown",
   "metadata": {},
   "source": [
    "#### 2.- Calculate the exact mean and standard deviation and compare them with your guesses. Do they fall inside the ranges you guessed?"
   ]
  },
  {
   "cell_type": "code",
   "execution_count": null,
   "metadata": {},
   "outputs": [],
   "source": [
    "# your code here\n",
    "\n",
    "ages_population['observation'].describe()"
   ]
  },
  {
   "cell_type": "markdown",
   "metadata": {},
   "source": [
    "#### 3.- Now read the file `ages_population2.csv` . Calculate the frequency distribution and plot it."
   ]
  },
  {
   "cell_type": "code",
   "execution_count": null,
   "metadata": {},
   "outputs": [],
   "source": [
    "# your code here\n",
    "\n",
    "path = '../data/ages_population2.csv'\n",
    "ages_population2 = pd.read_csv(path)\n",
    "ages_population2\n",
    "\n",
    "result_counts = ages_population2['observation'].value_counts(sort=False)\n",
    "result_counts_df = pd.DataFrame(result_counts).reset_index().rename(columns={'observation': 'frequency'})\n",
    "result_counts_df\n",
    "\n",
    "# Calculate mean and median\n",
    "mean_age = ages_population2['observation'].mean()\n",
    "median_age = ages_population2['observation'].median()\n",
    "std_age = ages_population2['observation'].std()\n",
    "\n",
    "# Create the histogram plot\n",
    "plt.hist(ages_population2['observation'], bins=20)\n",
    "\n",
    "# Add plot labels and title\n",
    "plt.title('Age Distribution')\n",
    "plt.xlabel('Age')\n",
    "plt.ylabel('Count')\n",
    "\n",
    "# Add vertical lines for mean and median\n",
    "plt.axvline(x=mean_age, color='red', linestyle='dashed', linewidth=2, label='Mean')\n",
    "plt.axvline(x=median_age, color='green', linestyle='dashed', linewidth=2, label='Median')\n",
    "\n",
    "# Add legend\n",
    "plt.legend()\n",
    "\n",
    "# Show the plot\n",
    "plt.show()"
   ]
  },
  {
   "cell_type": "markdown",
   "metadata": {},
   "source": [
    "####  4.- What do you see? Is there any difference with the frequency distribution in step 1?"
   ]
  },
  {
   "cell_type": "code",
   "execution_count": null,
   "metadata": {},
   "outputs": [],
   "source": [
    "# Create a figure with two subplots\n",
    "fig, axes = plt.subplots(nrows=1, ncols=2, figsize=(10, 5))\n",
    "\n",
    "# Plot the first boxplot in the first subplot\n",
    "axes[0].boxplot(ages_population['observation'])\n",
    "axes[0].set_title('Age Distribution 1')\n",
    "axes[0].set_xlabel('Age')\n",
    "axes[0].set_ylabel('Count')\n",
    "\n",
    "# Plot the second boxplot in the second subplot\n",
    "axes[1].boxplot(ages_population2['observation'])\n",
    "axes[1].set_title('Age Distribution 2')\n",
    "axes[1].set_xlabel('Age')\n",
    "axes[1].set_ylabel('Count')\n",
    "\n",
    "# Show the plot\n",
    "plt.show()"
   ]
  },
  {
   "cell_type": "markdown",
   "metadata": {},
   "source": [
    "#### 5.- Calculate the mean and standard deviation. Compare the results with the mean and standard deviation in step 2. What do you think?"
   ]
  },
  {
   "cell_type": "code",
   "execution_count": null,
   "metadata": {},
   "outputs": [],
   "source": [
    "# your code here\n",
    "\n",
    "df1 = pd.DataFrame(ages_population['observation'].describe()).rename(columns={'observation': 'ages_population'})\n",
    "df2 = pd.DataFrame(ages_population2['observation'].describe()).rename(columns={'observation': 'ages_population2'})\n",
    "df_1_vs_2 = df1.merge(df2, on=df1.index)\n",
    "df_1_vs_2 = df_1_vs_2.rename(columns={'key_0': 'descriptive'})\n",
    "display(df_1_vs_2)"
   ]
  },
  {
   "cell_type": "markdown",
   "metadata": {},
   "source": [
    "## Challenge 5\n",
    "Now is the turn of `ages_population3.csv`.\n",
    "\n",
    "#### 1.- Read the file `ages_population3.csv`. Calculate the frequency distribution and plot it."
   ]
  },
  {
   "cell_type": "code",
   "execution_count": null,
   "metadata": {},
   "outputs": [],
   "source": [
    "# your code here\n",
    "\n",
    "path = '../data/ages_population3.csv'\n",
    "ages_population3 = pd.read_csv(path)\n",
    "ages_population3"
   ]
  },
  {
   "cell_type": "markdown",
   "metadata": {},
   "source": [
    "#### 2.- Calculate the mean and standard deviation. Compare the results with the plot in step 1. What is happening?"
   ]
  },
  {
   "cell_type": "code",
   "execution_count": null,
   "metadata": {},
   "outputs": [],
   "source": [
    "# your code here\n",
    "\n",
    "df1 = pd.DataFrame(ages_population['observation'].describe()).rename(columns={'observation': 'ages_population'})\n",
    "df3 = pd.DataFrame(ages_population3['observation'].describe()).rename(columns={'observation': 'ages_population3'})\n",
    "df_1_vs_3 = df1.merge(df3, on=df1.index)\n",
    "df_1_vs_3 = df_1_vs_3.rename(columns={'key_0': 'descriptive'})\n",
    "display(df_1_vs_3)\n",
    "\n",
    "fig, axes = plt.subplots(nrows=1, ncols=2, figsize=(10, 5))\n",
    "\n",
    "axes[0].boxplot(ages_population['observation'])\n",
    "axes[0].set_title('Age Distribution 1')\n",
    "axes[0].set_xlabel('Age')\n",
    "axes[0].set_ylabel('Count')\n",
    "\n",
    "axes[1].boxplot(ages_population3['observation'])\n",
    "axes[1].set_title('Age Distribution 3')\n",
    "axes[1].set_xlabel('Age')\n",
    "axes[1].set_ylabel('Count')\n",
    "\n",
    "plt.show()"
   ]
  },
  {
   "cell_type": "markdown",
   "metadata": {},
   "source": [
    "#### 3.- Calculate the four quartiles. Use the results to explain your reasoning for question in step 2. How much of a difference is there between the median and the mean?"
   ]
  },
  {
   "cell_type": "code",
   "execution_count": null,
   "metadata": {},
   "outputs": [],
   "source": [
    "# your code here\n",
    "\n",
    "df1 = pd.DataFrame(ages_population['observation'].describe()).rename(columns={'observation': 'ages_population'})\n",
    "df3 = pd.DataFrame(ages_population3['observation'].describe()).rename(columns={'observation': 'ages_population3'})\n",
    "df_1_vs_3 = df1.merge(df3, on=df1.index)\n",
    "df_1_vs_3 = df_1_vs_3.rename(columns={'key_0': 'descriptive'})\n",
    "display(df_1_vs_3)"
   ]
  },
  {
   "cell_type": "markdown",
   "metadata": {},
   "source": [
    "#### 4.- Calculate other percentiles that might be useful to give more arguments to your reasoning."
   ]
  },
  {
   "cell_type": "code",
   "execution_count": null,
   "metadata": {},
   "outputs": [],
   "source": [
    "# your code here\n",
    "\n",
    "display(df_1_vs_3)\n",
    "\n",
    "print(\"Mode - Ages Population\")\n",
    "print(int(ages_population['observation'].mode()))\n",
    "print(\"\\nMode - Ages Population 3\")\n",
    "print(int(ages_population3['observation'].mode()))\n",
    "\n",
    "print(\"\\nIQR - Ages Population\")\n",
    "print(df_1_vs_3['ages_population'][6] - df_1_vs_3['ages_population'][4])\n",
    "print(\"\\nIQR - Ages Population 3\")\n",
    "print(df_1_vs_3['ages_population3'][6] - df_1_vs_3['ages_population3'][4])"
   ]
  }
 ],
 "metadata": {
  "kernelspec": {
   "display_name": "Python 3 (ipykernel)",
   "language": "python",
   "name": "python3"
  },
  "language_info": {
   "codemirror_mode": {
    "name": "ipython",
    "version": 3
   },
   "file_extension": ".py",
   "mimetype": "text/x-python",
   "name": "python",
   "nbconvert_exporter": "python",
   "pygments_lexer": "ipython3",
   "version": "3.9.16"
  }
 },
 "nbformat": 4,
 "nbformat_minor": 2
}
