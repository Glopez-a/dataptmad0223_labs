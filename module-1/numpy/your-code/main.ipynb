{
 "cells": [
  {
   "cell_type": "markdown",
   "metadata": {},
   "source": [
    "# Introduction to NumPy\n",
    "\n",
    "\n",
    "#### 1. Import NumPy under the name np."
   ]
  },
  {
   "cell_type": "code",
   "execution_count": 154,
   "metadata": {},
   "outputs": [],
   "source": [
    "# your code here\n",
    "import numpy as np"
   ]
  },
  {
   "cell_type": "markdown",
   "metadata": {},
   "source": [
    "#### 2. Print your NumPy version."
   ]
  },
  {
   "cell_type": "code",
   "execution_count": 155,
   "metadata": {},
   "outputs": [
    {
     "data": {
      "text/plain": [
       "'1.23.5'"
      ]
     },
     "execution_count": 155,
     "metadata": {},
     "output_type": "execute_result"
    }
   ],
   "source": [
    "# your code here\n",
    "np.__version__"
   ]
  },
  {
   "cell_type": "markdown",
   "metadata": {},
   "source": [
    "#### 3. Generate a 2x3x5 3-dimensional array with random values. Assign the array to variable *a*.\n",
    "**Challenge**: there are at least three easy ways that use numpy to generate random arrays. How many ways can you find?"
   ]
  },
  {
   "cell_type": "code",
   "execution_count": 156,
   "metadata": {},
   "outputs": [
    {
     "name": "stdout",
     "output_type": "stream",
     "text": [
      "[[[ 6 27 15 14  4]\n",
      "  [ 8 16  1  5  2]\n",
      "  [ 7 10 12 24 26]]\n",
      "\n",
      " [[ 9  3 28 11 20]\n",
      "  [21 13 19 23 22]\n",
      "  [ 0 25 29 17 18]]]\n"
     ]
    }
   ],
   "source": [
    "# Method 1\n",
    "import random\n",
    "a = np.array(random.sample(range(30), 30)).reshape(2,3,5)\n",
    "print(a)"
   ]
  },
  {
   "cell_type": "code",
   "execution_count": 157,
   "metadata": {},
   "outputs": [
    {
     "name": "stdout",
     "output_type": "stream",
     "text": [
      "[[[ 8  8 23  3  3]\n",
      "  [13 30  2 27 17]\n",
      "  [16 11  8 22 27]]\n",
      "\n",
      " [[27 14  5 20 24]\n",
      "  [22 21 19  2 19]\n",
      "  [10  6 29 11  4]]]\n"
     ]
    }
   ],
   "source": [
    "# Method 2\n",
    "a = np.array([random.randint(0,30) for i in range(30)]).reshape(2,3,5)\n",
    "print(a)"
   ]
  },
  {
   "cell_type": "code",
   "execution_count": 158,
   "metadata": {},
   "outputs": [
    {
     "name": "stdout",
     "output_type": "stream",
     "text": [
      "[[[16, 25, 6, 21, 13], [3, 20, 16, 19, 6], [3, 11, 14, 2, 27]], [[2, 6, 22, 8, 23], [26, 9, 11, 20, 1], [25, 3, 2, 5, 24]]]\n",
      "[[[16 25  6 21 13]\n",
      "  [ 3 20 16 19  6]\n",
      "  [ 3 11 14  2 27]]\n",
      "\n",
      " [[ 2  6 22  8 23]\n",
      "  [26  9 11 20  1]\n",
      "  [25  3  2  5 24]]]\n"
     ]
    },
    {
     "data": {
      "text/plain": [
       "(2, 3, 5)"
      ]
     },
     "execution_count": 158,
     "metadata": {},
     "output_type": "execute_result"
    }
   ],
   "source": [
    "# Method 3\n",
    "my_list = [[random.sample(range(30), 5), random.sample(range(30), 5), random.sample(range(30), 5)],[random.sample(range(30), 5), random.sample(range(30), 5), random.sample(range(30), 5)]]\n",
    "print(my_list)\n",
    "a = np.array(my_list)\n",
    "print(a)\n",
    "a.shape"
   ]
  },
  {
   "cell_type": "markdown",
   "metadata": {},
   "source": [
    "#### 4. Print *a*.\n"
   ]
  },
  {
   "cell_type": "code",
   "execution_count": 159,
   "metadata": {},
   "outputs": [
    {
     "name": "stdout",
     "output_type": "stream",
     "text": [
      "[[[16 25  6 21 13]\n",
      "  [ 3 20 16 19  6]\n",
      "  [ 3 11 14  2 27]]\n",
      "\n",
      " [[ 2  6 22  8 23]\n",
      "  [26  9 11 20  1]\n",
      "  [25  3  2  5 24]]]\n",
      "(2, 3, 5)\n"
     ]
    }
   ],
   "source": [
    "# your code here\n",
    "print(a)\n",
    "print(a.shape)"
   ]
  },
  {
   "cell_type": "markdown",
   "metadata": {},
   "source": [
    "#### 5. Create a 5x2x3 3-dimensional array with all values equaling 1. Assign the array to variable *b*."
   ]
  },
  {
   "cell_type": "code",
   "execution_count": 160,
   "metadata": {},
   "outputs": [],
   "source": [
    "# your code here\n",
    "b = np.ones((5,2,3))"
   ]
  },
  {
   "cell_type": "markdown",
   "metadata": {},
   "source": [
    "#### 6. Print *b*.\n"
   ]
  },
  {
   "cell_type": "code",
   "execution_count": 161,
   "metadata": {},
   "outputs": [
    {
     "name": "stdout",
     "output_type": "stream",
     "text": [
      "[[[1. 1. 1.]\n",
      "  [1. 1. 1.]]\n",
      "\n",
      " [[1. 1. 1.]\n",
      "  [1. 1. 1.]]\n",
      "\n",
      " [[1. 1. 1.]\n",
      "  [1. 1. 1.]]\n",
      "\n",
      " [[1. 1. 1.]\n",
      "  [1. 1. 1.]]\n",
      "\n",
      " [[1. 1. 1.]\n",
      "  [1. 1. 1.]]]\n",
      "(5, 2, 3)\n"
     ]
    }
   ],
   "source": [
    "# your code here\n",
    "print(b)\n",
    "print(b.shape)"
   ]
  },
  {
   "cell_type": "markdown",
   "metadata": {},
   "source": [
    "#### 7. Do *a* and *b* have the same size? How do you prove that in Python code?"
   ]
  },
  {
   "cell_type": "code",
   "execution_count": 162,
   "metadata": {},
   "outputs": [
    {
     "name": "stdout",
     "output_type": "stream",
     "text": [
      "30\n",
      "30\n"
     ]
    }
   ],
   "source": [
    "# your code here\n",
    "print(a.size)\n",
    "print(b.size)"
   ]
  },
  {
   "cell_type": "markdown",
   "metadata": {},
   "source": [
    "#### 8. Are you able to add *a* and *b*? Why or why not?\n"
   ]
  },
  {
   "cell_type": "code",
   "execution_count": 163,
   "metadata": {},
   "outputs": [
    {
     "name": "stdout",
     "output_type": "stream",
     "text": [
      "(2, 3, 5)\n",
      "(5, 2, 3)\n"
     ]
    }
   ],
   "source": [
    "# your answer here\n",
    "#c = a + b\n",
    "\n",
    "print(a.shape)\n",
    "print(b.shape)\n",
    "\n",
    "# You cant, beause different shapes"
   ]
  },
  {
   "cell_type": "markdown",
   "metadata": {},
   "source": [
    "#### 9. Transpose *b* so that it has the same structure of *a* (i.e. become a 2x3x5 array). Assign the transposed array to variable *c*."
   ]
  },
  {
   "cell_type": "code",
   "execution_count": 164,
   "metadata": {},
   "outputs": [
    {
     "name": "stdout",
     "output_type": "stream",
     "text": [
      "[[[1. 1. 1. 1. 1.]\n",
      "  [1. 1. 1. 1. 1.]\n",
      "  [1. 1. 1. 1. 1.]]\n",
      "\n",
      " [[1. 1. 1. 1. 1.]\n",
      "  [1. 1. 1. 1. 1.]\n",
      "  [1. 1. 1. 1. 1.]]]\n"
     ]
    }
   ],
   "source": [
    "# your code here\n",
    "c = b.reshape((2,3,5))\n",
    "print(c)"
   ]
  },
  {
   "cell_type": "markdown",
   "metadata": {},
   "source": [
    "#### 10. Try to add *a* and *c*. Now it should work. Assign the sum to variable *d*. But why does it work now?"
   ]
  },
  {
   "cell_type": "code",
   "execution_count": 165,
   "metadata": {},
   "outputs": [
    {
     "name": "stdout",
     "output_type": "stream",
     "text": [
      "[[[17. 26.  7. 22. 14.]\n",
      "  [ 4. 21. 17. 20.  7.]\n",
      "  [ 4. 12. 15.  3. 28.]]\n",
      "\n",
      " [[ 3.  7. 23.  9. 24.]\n",
      "  [27. 10. 12. 21.  2.]\n",
      "  [26.  4.  3.  6. 25.]]]\n"
     ]
    }
   ],
   "source": [
    "# your code/answer here\n",
    "d = a + c\n",
    "print(d)"
   ]
  },
  {
   "cell_type": "markdown",
   "metadata": {},
   "source": [
    "#### 11. Print *a* and *d*. Notice the difference and relation of the two array in terms of the values? Explain."
   ]
  },
  {
   "cell_type": "code",
   "execution_count": 166,
   "metadata": {},
   "outputs": [
    {
     "name": "stdout",
     "output_type": "stream",
     "text": [
      "[[[16 25  6 21 13]\n",
      "  [ 3 20 16 19  6]\n",
      "  [ 3 11 14  2 27]]\n",
      "\n",
      " [[ 2  6 22  8 23]\n",
      "  [26  9 11 20  1]\n",
      "  [25  3  2  5 24]]]\n",
      "[[[17. 26.  7. 22. 14.]\n",
      "  [ 4. 21. 17. 20.  7.]\n",
      "  [ 4. 12. 15.  3. 28.]]\n",
      "\n",
      " [[ 3.  7. 23.  9. 24.]\n",
      "  [27. 10. 12. 21.  2.]\n",
      "  [26.  4.  3.  6. 25.]]]\n"
     ]
    }
   ],
   "source": [
    "# your code/answer here\n",
    "print(a)\n",
    "print(d)\n",
    "\n",
    "# All elements in array \"a\" are iqual to the elements in the same position on array \"d\" + 1, also de type value of each element vary. "
   ]
  },
  {
   "cell_type": "markdown",
   "metadata": {},
   "source": [
    "#### 12. Multiply *a* and *c*. Assign the result to *e*."
   ]
  },
  {
   "cell_type": "code",
   "execution_count": 167,
   "metadata": {},
   "outputs": [
    {
     "name": "stdout",
     "output_type": "stream",
     "text": [
      "[[[16. 25.  6. 21. 13.]\n",
      "  [ 3. 20. 16. 19.  6.]\n",
      "  [ 3. 11. 14.  2. 27.]]\n",
      "\n",
      " [[ 2.  6. 22.  8. 23.]\n",
      "  [26.  9. 11. 20.  1.]\n",
      "  [25.  3.  2.  5. 24.]]]\n"
     ]
    }
   ],
   "source": [
    "# your code here\n",
    "e = a * c\n",
    "print(e)"
   ]
  },
  {
   "cell_type": "markdown",
   "metadata": {},
   "source": [
    "#### 13. Does *e* equal to *a*? Why or why not?\n"
   ]
  },
  {
   "cell_type": "code",
   "execution_count": 168,
   "metadata": {},
   "outputs": [],
   "source": [
    "# your code/answer here\n",
    "\n",
    "# The have the same values, but different value types on each element, so they are not the same"
   ]
  },
  {
   "cell_type": "markdown",
   "metadata": {},
   "source": [
    "#### 14. Identify the max, min, and mean values in *d*. Assign those values to variables *d_max*, *d_min* and *d_mean*."
   ]
  },
  {
   "cell_type": "code",
   "execution_count": 169,
   "metadata": {},
   "outputs": [
    {
     "name": "stdout",
     "output_type": "stream",
     "text": [
      "27\n",
      "1\n",
      "13.966666666666667\n"
     ]
    }
   ],
   "source": [
    "# your code here\n",
    "d_max = a[np.unravel_index(d.argmax(), d.shape)]\n",
    "print(d_max)\n",
    "d_min = a[np.unravel_index(d.argmin(), d.shape)]\n",
    "print(d_min)\n",
    "d_mean = d.mean()\n",
    "print(d_mean)"
   ]
  },
  {
   "cell_type": "markdown",
   "metadata": {},
   "source": [
    "#### 15. Now we want to label the values in *d*. First create an empty array *f* with the same shape (i.e. 2x3x5) as *d* using `np.empty`.\n"
   ]
  },
  {
   "cell_type": "code",
   "execution_count": 170,
   "metadata": {},
   "outputs": [
    {
     "name": "stdout",
     "output_type": "stream",
     "text": [
      "[[[16. 25.  6. 21. 13.]\n",
      "  [ 3. 20. 16. 19.  6.]\n",
      "  [ 3. 11. 14.  2. 27.]]\n",
      "\n",
      " [[ 2.  6. 22.  8. 23.]\n",
      "  [26.  9. 11. 20.  1.]\n",
      "  [25.  3.  2.  5. 24.]]]\n"
     ]
    }
   ],
   "source": [
    "# your code here\n",
    "f = np.empty((2,3,5))\n",
    "print(f)"
   ]
  },
  {
   "cell_type": "markdown",
   "metadata": {},
   "source": [
    "#### 16. Populate the values in *f*. \n",
    "\n",
    "For each value in *d*, if it's larger than *d_min* but smaller than *d_mean*, assign 25 to the corresponding value in *f*. If a value in *d* is larger than *d_mean* but smaller than *d_max*, assign 75 to the corresponding value in *f*. If a value equals to *d_mean*, assign 50 to the corresponding value in *f*. Assign 0 to the corresponding value(s) in *f* for *d_min* in *d*. Assign 100 to the corresponding value(s) in *f* for *d_max* in *d*. In the end, f should have only the following values: 0, 25, 50, 75, and 100.\n",
    "\n",
    "**Note**: you don't have to use Numpy in this question."
   ]
  },
  {
   "cell_type": "code",
   "execution_count": 171,
   "metadata": {},
   "outputs": [
    {
     "name": "stdout",
     "output_type": "stream",
     "text": [
      "[[[ 75.  75.  25.  75.  75.]\n",
      "  [ 25.  75.  75.  75.  25.]\n",
      "  [ 25.  25.  75.  25. 100.]]\n",
      "\n",
      " [[ 25.  25.  75.  25.  75.]\n",
      "  [100.  25.  25.  75.  25.]\n",
      "  [ 75.  25.  25.  25.  75.]]]\n"
     ]
    }
   ],
   "source": [
    "# your code here\n",
    "it = np.nditer(d, flags=['multi_index'])\n",
    "for x in it:\n",
    "\n",
    "    if (x == d_min):\n",
    "        f[it.multi_index] = 0\n",
    "    elif (x < d_mean):\n",
    "        f[it.multi_index] = 25\n",
    "    elif (x == d_mean):\n",
    "        f[it.multi_index] = 50\n",
    "    elif (x < d_max):\n",
    "        f[it.multi_index] = 75\n",
    "    else:\n",
    "        f[it.multi_index] = 100\n",
    "        \n",
    "print(f)"
   ]
  },
  {
   "cell_type": "markdown",
   "metadata": {},
   "source": [
    "#### 17. Print *d* and *f*. Do you have your expected *f*?\n",
    "For instance, if your *d* is:\n",
    "```python\n",
    "[[[1.85836099, 1.67064465, 1.62576044, 1.40243961, 1.88454931],\n",
    "[1.75354326, 1.69403643, 1.36729252, 1.61415071, 1.12104981],\n",
    "[1.72201435, 1.1862918 , 1.87078449, 1.7726778 , 1.88180042]],\n",
    "[[1.44747908, 1.31673383, 1.02000951, 1.52218947, 1.97066381],\n",
    "[1.79129243, 1.74983003, 1.96028037, 1.85166831, 1.65450881],\n",
    "[1.18068344, 1.9587381 , 1.00656599, 1.93402165, 1.73514584]]]\n",
    "```\n",
    "Your *f* should be:\n",
    "```python\n",
    "[[[ 75.,  75.,  75.,  25.,  75.],\n",
    "[ 75.,  75.,  25.,  25.,  25.],\n",
    "[ 75.,  25.,  75.,  75.,  75.]],\n",
    "[[ 25.,  25.,  25.,  25., 100.],\n",
    "[ 75.,  75.,  75.,  75.,  75.],\n",
    "[ 25.,  75.,   0.,  75.,  75.]]]\n",
    "```"
   ]
  },
  {
   "cell_type": "code",
   "execution_count": 172,
   "metadata": {},
   "outputs": [
    {
     "name": "stdout",
     "output_type": "stream",
     "text": [
      "[[[17. 26.  7. 22. 14.]\n",
      "  [ 4. 21. 17. 20.  7.]\n",
      "  [ 4. 12. 15.  3. 28.]]\n",
      "\n",
      " [[ 3.  7. 23.  9. 24.]\n",
      "  [27. 10. 12. 21.  2.]\n",
      "  [26.  4.  3.  6. 25.]]]\n",
      "\n",
      "\n",
      "[[[ 75.  75.  25.  75.  75.]\n",
      "  [ 25.  75.  75.  75.  25.]\n",
      "  [ 25.  25.  75.  25. 100.]]\n",
      "\n",
      " [[ 25.  25.  75.  25.  75.]\n",
      "  [100.  25.  25.  75.  25.]\n",
      "  [ 75.  25.  25.  25.  75.]]]\n"
     ]
    }
   ],
   "source": [
    "# your code here\n",
    "print(d)\n",
    "print(\"\\n\")\n",
    "print(f)"
   ]
  },
  {
   "cell_type": "markdown",
   "metadata": {},
   "source": [
    "#### 18. Bonus question: instead of using numbers (i.e. 0, 25, 50, 75, and 100), use string values  (\"A\", \"B\", \"C\", \"D\", and \"E\") to label the array elements. For the example above, the expected result is:\n",
    "\n",
    "```python\n",
    "[[[ 'D',  'D',  'D',  'B',  'D'],\n",
    "[ 'D',  'D',  'B',  'B',  'B'],\n",
    "[ 'D',  'B',  'D',  'D',  'D']],\n",
    "[[ 'B',  'B',  'B',  'B',  'E'],\n",
    "[ 'D',  'D',  'D',  'D',  'D'],\n",
    "[ 'B',  'D',   'A',  'D', 'D']]]\n",
    "```\n",
    "**Note**: you don't have to use Numpy in this question."
   ]
  },
  {
   "cell_type": "code",
   "execution_count": 173,
   "metadata": {},
   "outputs": [
    {
     "name": "stdout",
     "output_type": "stream",
     "text": [
      "[[['D' 'D' 'B' 'D' 'D']\n",
      "  ['B' 'D' 'D' 'D' 'B']\n",
      "  ['B' 'B' 'D' 'B' 'E']]\n",
      "\n",
      " [['B' 'B' 'D' 'B' 'D']\n",
      "  ['E' 'B' 'B' 'D' 'B']\n",
      "  ['D' 'B' 'B' 'B' 'D']]]\n"
     ]
    }
   ],
   "source": [
    "# your code here\n",
    "i = 0\n",
    "g = np.empty((2,3,5), dtype='object')\n",
    "while i < 2:\n",
    "    j = 0\n",
    "    while j < 3:\n",
    "        k = 0\n",
    "        while k < 5:\n",
    "            if (d[i,j,k] == d_min):\n",
    "                g[i,j,k] = \"A\"\n",
    "            elif (d[i,j,k] < d_mean):\n",
    "                g[i,j,k] = \"B\"\n",
    "            elif (d[i,j,k] == d_mean):\n",
    "                g[i,j,k] = \"C\"\n",
    "            elif (d[i,j,k] < d_max):\n",
    "                g[i,j,k] = \"D\"\n",
    "            else:\n",
    "                g[i,j,k] = 'E'\n",
    "            k += 1\n",
    "        j += 1\n",
    "    i += 1\n",
    "    #if (i == 0):\n",
    "    #    f[i] == \"A\"\n",
    "    #elif (f[x] == 25):\n",
    "    #    f[x] == \"B\"\n",
    "    #elif (f[(x)] == 50):\n",
    "    #    f[x] == \"C\"\n",
    "    #elif (f[x] == 75):\n",
    "    #    f[x] == \"D\"\n",
    "    #if (f[x] == 100):\n",
    "    #    f[x] == \"E\"\n",
    "print(g)"
   ]
  },
  {
   "cell_type": "markdown",
   "metadata": {},
   "source": [
    "\n",
    "\n"
   ]
  },
  {
   "cell_type": "code",
   "execution_count": null,
   "metadata": {},
   "outputs": [],
   "source": []
  }
 ],
 "metadata": {
  "kernelspec": {
   "display_name": "Python 3 (ipykernel)",
   "language": "python",
   "name": "python3"
  },
  "language_info": {
   "codemirror_mode": {
    "name": "ipython",
    "version": 3
   },
   "file_extension": ".py",
   "mimetype": "text/x-python",
   "name": "python",
   "nbconvert_exporter": "python",
   "pygments_lexer": "ipython3",
   "version": "3.9.16"
  }
 },
 "nbformat": 4,
 "nbformat_minor": 2
}
